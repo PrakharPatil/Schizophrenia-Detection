{
 "cells": [
  {
   "cell_type": "code",
   "execution_count": 6,
   "id": "711e4306-03bb-4a48-8fde-9fbda2ba3281",
   "metadata": {},
   "outputs": [],
   "source": [
    "import numpy as np\n",
    "import matplotlib.pyplot as plt\n",
    "import tensorflow as tf\n",
    "from tensorflow import keras\n",
    "from tensorflow.keras.models import Sequential\n",
    "from tensorflow.keras.layers import Activation, Dense, Flatten, BatchNormalization, Conv2D, MaxPooling2D\n",
    "from tensorflow.keras.optimizers import Adam\n",
    "from tensorflow.keras.metrics import categorical_crossentropy\n",
    "from tensorflow.keras.preprocessing.image import ImageDataGenerator\n",
    "from sklearn.metrics import confusion_matrix\n",
    "import itertools\n",
    "import os\n",
    "import shutil\n",
    "import random\n",
    "import glob\n",
    "import warnings\n",
    "warnings.simplefilter(action='ignore', category=FutureWarning)"
   ]
  },
  {
   "cell_type": "code",
   "execution_count": 7,
   "id": "58c22934-d517-463d-adc2-1532302a7ef0",
   "metadata": {},
   "outputs": [],
   "source": [
    "def plot_confusion_matrix(cm, classes, normalize=False, title='Confusion Matrix', cmap=plt.cm.Blues):\n",
    "    plt.imshow(cm, interpolation='nearest', cmap=cmap)\n",
    "    plt.title(title)\n",
    "    plt.colorbar()\n",
    "    tick_marks=np.arange(len(classes))\n",
    "    plt.xticks(tick_marks, classes, rotation=45)\n",
    "    plt.yticks(tick_marks, classes)\n",
    "\n",
    "    if normalize:\n",
    "        cm=cm.astype('float')/cm.sum(axis=1)[:, np.newaxis]\n",
    "        print('Normalized Confusion Matrix')\n",
    "    else:\n",
    "        print('Confusion Matrix without Normalization')\n",
    "\n",
    "    print(cm)\n",
    "\n",
    "    thresh=cm.max()/2.\n",
    "    for i, j in itertools.product(range(cm.shape[0]), range(cm.shape[1])):\n",
    "        plt.text(j, i, cm[i, j], horizontalalignment='center', color='white' if cm[i, j]>thresh else 'black')\n",
    "\n",
    "    plt.tight_layout()\n",
    "    plt.ylabel('True Label')\n",
    "    plt.xlabel('Predicted Label')\n",
    "    plt.show()\n"
   ]
  },
  {
   "cell_type": "code",
   "execution_count": 8,
   "id": "de81bd94-ea6c-42a6-88bf-c9263cc2308d",
   "metadata": {},
   "outputs": [],
   "source": [
    "def train_classifier():\n",
    "    physical_devices = tf.config.experimental.list_physical_devices('GPU')\n",
    "    print(\"Num GPUs Available: \", len(physical_devices))\n",
    "    if(len(physical_devices)>0) :\n",
    "        tf.config.experimental.set_memory_growth(physical_devices[0], True)"
   ]
  },
  {
   "cell_type": "code",
   "execution_count": null,
   "id": "8dc7884a-b2f2-4ebc-a777-bea12b51eb6e",
   "metadata": {},
   "outputs": [],
   "source": [
    "\n",
    "os.mkdir('../Classification_data')\n",
    "\n",
    "os.mkdir('../Classification_data/train')\n",
    "os.mkdir('../Classification_data/train/Healthy')\n",
    "os.mkdir('../Classification_data/train/Schizophrenic')\n",
    "\n",
    "os.mkdir('../Classification_data/valid')\n",
    "os.mkdir('../Classification_data/valid/Healthy')\n",
    "os.mkdir('../Classification_data/valid/Schizophrenic')\n",
    "\n",
    "os.mkdir('../Classification_data/test')\n",
    "os.mkdir('../Classification_data/test/Healthy')\n",
    "os.mkdir('../Classification_data/test/Schizophrenic')"
   ]
  },
  {
   "cell_type": "code",
   "execution_count": 9,
   "id": "c78db61e-c0c7-4c16-af35-125ab101d91f",
   "metadata": {},
   "outputs": [
    {
     "ename": "ValueError",
     "evalue": "Sample larger than population or is negative",
     "output_type": "error",
     "traceback": [
      "\u001b[1;31m---------------------------------------------------------------------------\u001b[0m",
      "\u001b[1;31mValueError\u001b[0m                                Traceback (most recent call last)",
      "Cell \u001b[1;32mIn [9], line 4\u001b[0m\n\u001b[0;32m      1\u001b[0m \u001b[38;5;66;03m# folderPath='./CNN_data/'\u001b[39;00m\n\u001b[0;32m      2\u001b[0m \u001b[38;5;66;03m# destPath='./Classification_data/'\u001b[39;00m\n\u001b[1;32m----> 4\u001b[0m \u001b[38;5;28;01mfor\u001b[39;00m c \u001b[38;5;129;01min\u001b[39;00m \u001b[43mrandom\u001b[49m\u001b[38;5;241;43m.\u001b[39;49m\u001b[43msample\u001b[49m\u001b[43m(\u001b[49m\u001b[43mglob\u001b[49m\u001b[38;5;241;43m.\u001b[39;49m\u001b[43mglob\u001b[49m\u001b[43m(\u001b[49m\u001b[38;5;124;43m'\u001b[39;49m\u001b[38;5;124;43m../CNN_data/Healthy/*\u001b[39;49m\u001b[38;5;124;43m'\u001b[39;49m\u001b[43m)\u001b[49m\u001b[43m,\u001b[49m\u001b[43m \u001b[49m\u001b[38;5;241;43m161\u001b[39;49m\u001b[43m)\u001b[49m:\n\u001b[0;32m      5\u001b[0m     shutil\u001b[38;5;241m.\u001b[39mcopy(c, \u001b[38;5;124m'\u001b[39m\u001b[38;5;124m../Classification_data/train/Healthy\u001b[39m\u001b[38;5;124m'\u001b[39m)\n\u001b[0;32m      7\u001b[0m \u001b[38;5;28;01mfor\u001b[39;00m c \u001b[38;5;129;01min\u001b[39;00m random\u001b[38;5;241m.\u001b[39msample(glob\u001b[38;5;241m.\u001b[39mglob(\u001b[38;5;124m'\u001b[39m\u001b[38;5;124m../CNN_data/Schizophrenic/*\u001b[39m\u001b[38;5;124m'\u001b[39m), \u001b[38;5;241m170\u001b[39m):\n",
      "File \u001b[1;32m~\\AppData\\Local\\Programs\\Python\\Python310\\lib\\random.py:482\u001b[0m, in \u001b[0;36mRandom.sample\u001b[1;34m(self, population, k, counts)\u001b[0m\n\u001b[0;32m    480\u001b[0m randbelow \u001b[38;5;241m=\u001b[39m \u001b[38;5;28mself\u001b[39m\u001b[38;5;241m.\u001b[39m_randbelow\n\u001b[0;32m    481\u001b[0m \u001b[38;5;28;01mif\u001b[39;00m \u001b[38;5;129;01mnot\u001b[39;00m \u001b[38;5;241m0\u001b[39m \u001b[38;5;241m<\u001b[39m\u001b[38;5;241m=\u001b[39m k \u001b[38;5;241m<\u001b[39m\u001b[38;5;241m=\u001b[39m n:\n\u001b[1;32m--> 482\u001b[0m     \u001b[38;5;28;01mraise\u001b[39;00m \u001b[38;5;167;01mValueError\u001b[39;00m(\u001b[38;5;124m\"\u001b[39m\u001b[38;5;124mSample larger than population or is negative\u001b[39m\u001b[38;5;124m\"\u001b[39m)\n\u001b[0;32m    483\u001b[0m result \u001b[38;5;241m=\u001b[39m [\u001b[38;5;28;01mNone\u001b[39;00m] \u001b[38;5;241m*\u001b[39m k\n\u001b[0;32m    484\u001b[0m setsize \u001b[38;5;241m=\u001b[39m \u001b[38;5;241m21\u001b[39m        \u001b[38;5;66;03m# size of a small set minus size of an empty list\u001b[39;00m\n",
      "\u001b[1;31mValueError\u001b[0m: Sample larger than population or is negative"
     ]
    }
   ],
   "source": [
    "# folderPath='./CNN_data/'\n",
    "# destPath='./Classification_data/'\n",
    "\n",
    "for c in random.sample(glob.glob('../CNN_data/Healthy/*'), 161):\n",
    "    shutil.copy(c, '../Classification_data/train/Healthy')\n",
    "\n",
    "for c in random.sample(glob.glob('../CNN_data/Schizophrenic/*'), 170):\n",
    "    shutil.copy(c, '../Classification_data/train/Schizophrenic')\n",
    "\n",
    "for c in random.sample(glob.glob('../CNN_data/Healthy/*'), 50):\n",
    "    shutil.copy(c, '../Classification_data/valid/Healthy')\n",
    "\n",
    "for c in random.sample(glob.glob('../CNN_data/Schizophrenic/*'), 50):\n",
    "    shutil.copy(c, '../Classification_data/valid/Schizophrenic')\n",
    "\n",
    "for c in random.sample(glob.glob('../CNN_data/Healthy/*'), 50):\n",
    "    shutil.copy(c, '../Classification_data/test/Healthy')\n",
    "\n",
    "for c in random.sample(glob.glob('../CNN_data/Schizophrenic/*'), 50):\n",
    "    shutil.copy(c, '../Classification_data/test/Schizophrenic')\n",
    "\n",
    "train_path = '../Classification_data/train'\n",
    "valid_path = '../Classification_data/valid'\n",
    "test_path = '../Classification_data/test'"
   ]
  },
  {
   "cell_type": "code",
   "execution_count": 10,
   "id": "1ca0ee17-8eca-4063-95e2-b7051f50142a",
   "metadata": {},
   "outputs": [
    {
     "ename": "NameError",
     "evalue": "name 'train_path' is not defined",
     "output_type": "error",
     "traceback": [
      "\u001b[1;31m---------------------------------------------------------------------------\u001b[0m",
      "\u001b[1;31mNameError\u001b[0m                                 Traceback (most recent call last)",
      "Cell \u001b[1;32mIn [10], line 1\u001b[0m\n\u001b[1;32m----> 1\u001b[0m train_batches\u001b[38;5;241m=\u001b[39mImageDataGenerator(preprocessing_function\u001b[38;5;241m=\u001b[39mtf\u001b[38;5;241m.\u001b[39mkeras\u001b[38;5;241m.\u001b[39mapplications\u001b[38;5;241m.\u001b[39mvgg16\u001b[38;5;241m.\u001b[39mpreprocess_input)\u001b[38;5;241m.\u001b[39mflow_from_directory(directory\u001b[38;5;241m=\u001b[39m\u001b[43mtrain_path\u001b[49m, target_size\u001b[38;5;241m=\u001b[39m(\u001b[38;5;241m224\u001b[39m,\u001b[38;5;241m224\u001b[39m), classes\u001b[38;5;241m=\u001b[39m[\u001b[38;5;124m'\u001b[39m\u001b[38;5;124mHealthy\u001b[39m\u001b[38;5;124m'\u001b[39m, \u001b[38;5;124m'\u001b[39m\u001b[38;5;124mSchizophrenic\u001b[39m\u001b[38;5;124m'\u001b[39m], batch_size\u001b[38;5;241m=\u001b[39m\u001b[38;5;241m10\u001b[39m)\n\u001b[0;32m      3\u001b[0m valid_batches\u001b[38;5;241m=\u001b[39mImageDataGenerator(preprocessing_function\u001b[38;5;241m=\u001b[39mtf\u001b[38;5;241m.\u001b[39mkeras\u001b[38;5;241m.\u001b[39mapplications\u001b[38;5;241m.\u001b[39mvgg16\u001b[38;5;241m.\u001b[39mpreprocess_input)\u001b[38;5;241m.\u001b[39mflow_from_directory(directory\u001b[38;5;241m=\u001b[39mvalid_path, target_size\u001b[38;5;241m=\u001b[39m(\u001b[38;5;241m224\u001b[39m,\u001b[38;5;241m224\u001b[39m), classes\u001b[38;5;241m=\u001b[39m[\u001b[38;5;124m'\u001b[39m\u001b[38;5;124mHealthy\u001b[39m\u001b[38;5;124m'\u001b[39m, \u001b[38;5;124m'\u001b[39m\u001b[38;5;124mSchizophrenic\u001b[39m\u001b[38;5;124m'\u001b[39m], batch_size\u001b[38;5;241m=\u001b[39m\u001b[38;5;241m10\u001b[39m)\n\u001b[0;32m      5\u001b[0m test_batches\u001b[38;5;241m=\u001b[39mImageDataGenerator(preprocessing_function\u001b[38;5;241m=\u001b[39mtf\u001b[38;5;241m.\u001b[39mkeras\u001b[38;5;241m.\u001b[39mapplications\u001b[38;5;241m.\u001b[39mvgg16\u001b[38;5;241m.\u001b[39mpreprocess_input)\u001b[38;5;241m.\u001b[39mflow_from_directory(directory\u001b[38;5;241m=\u001b[39mtest_path, target_size\u001b[38;5;241m=\u001b[39m(\u001b[38;5;241m224\u001b[39m,\u001b[38;5;241m224\u001b[39m), classes\u001b[38;5;241m=\u001b[39m[\u001b[38;5;124m'\u001b[39m\u001b[38;5;124mHealthy\u001b[39m\u001b[38;5;124m'\u001b[39m, \u001b[38;5;124m'\u001b[39m\u001b[38;5;124mSchizophrenic\u001b[39m\u001b[38;5;124m'\u001b[39m], batch_size\u001b[38;5;241m=\u001b[39m\u001b[38;5;241m10\u001b[39m, shuffle\u001b[38;5;241m=\u001b[39m\u001b[38;5;28;01mFalse\u001b[39;00m)\n",
      "\u001b[1;31mNameError\u001b[0m: name 'train_path' is not defined"
     ]
    }
   ],
   "source": [
    "\n",
    "train_batches=ImageDataGenerator(preprocessing_function=tf.keras.applications.vgg16.preprocess_input).flow_from_directory(directory=train_path, target_size=(224,224), classes=['Healthy', 'Schizophrenic'], batch_size=10)\n",
    "\n",
    "valid_batches=ImageDataGenerator(preprocessing_function=tf.keras.applications.vgg16.preprocess_input).flow_from_directory(directory=valid_path, target_size=(224,224), classes=['Healthy', 'Schizophrenic'], batch_size=10)\n",
    "\n",
    "test_batches=ImageDataGenerator(preprocessing_function=tf.keras.applications.vgg16.preprocess_input).flow_from_directory(directory=test_path, target_size=(224,224), classes=['Healthy', 'Schizophrenic'], batch_size=10, shuffle=False)\n"
   ]
  },
  {
   "cell_type": "code",
   "execution_count": 11,
   "id": "085ff83f-fb43-41f2-99eb-ed2f0d7e9973",
   "metadata": {},
   "outputs": [],
   "source": [
    "\n",
    "    model=Sequential([\n",
    "        # By defining the input_shape we define the very first layer i.e. input layer.\n",
    "        # The input_shape is the shape of the image that we are going to feed to the model.\n",
    "        Conv2D(filters=32, kernel_size=(3,3), activation='relu', padding='same', input_shape=(224,224,3)),\n",
    "        MaxPooling2D(pool_size=(2,2), strides=2),\n",
    "        Conv2D(filters=64, kernel_size=(3,3), activation='relu', padding='same'),\n",
    "        MaxPooling2D(pool_size=(2,2), strides=2),\n",
    "        Flatten(),\n",
    "        Dense(units=2, activation='softmax')\n",
    "    ])\n"
   ]
  },
  {
   "cell_type": "code",
   "execution_count": 12,
   "id": "eec5ae1b-ef31-4051-8c89-501be4b3394d",
   "metadata": {},
   "outputs": [
    {
     "name": "stdout",
     "output_type": "stream",
     "text": [
      "Model: \"sequential\"\n",
      "_________________________________________________________________\n",
      " Layer (type)                Output Shape              Param #   \n",
      "=================================================================\n",
      " conv2d (Conv2D)             (None, 224, 224, 32)      896       \n",
      "                                                                 \n",
      " max_pooling2d (MaxPooling2D  (None, 112, 112, 32)     0         \n",
      " )                                                               \n",
      "                                                                 \n",
      " conv2d_1 (Conv2D)           (None, 112, 112, 64)      18496     \n",
      "                                                                 \n",
      " max_pooling2d_1 (MaxPooling  (None, 56, 56, 64)       0         \n",
      " 2D)                                                             \n",
      "                                                                 \n",
      " flatten (Flatten)           (None, 200704)            0         \n",
      "                                                                 \n",
      " dense (Dense)               (None, 2)                 401410    \n",
      "                                                                 \n",
      "=================================================================\n",
      "Total params: 420,802\n",
      "Trainable params: 420,802\n",
      "Non-trainable params: 0\n",
      "_________________________________________________________________\n"
     ]
    }
   ],
   "source": [
    "   model.summary()"
   ]
  },
  {
   "cell_type": "code",
   "execution_count": null,
   "id": "8f10be3a-44ad-452e-935b-c18f98ffa03b",
   "metadata": {},
   "outputs": [],
   "source": [
    "\n",
    "model.compile(\n",
    "    optimizer=Adam(learning_rate=0.0001), \n",
    "    loss='categorical_crossentropy', \n",
    "    metrics=['accuracy']\n",
    ")\n"
   ]
  },
  {
   "cell_type": "code",
   "execution_count": null,
   "id": "45684fc1-6c55-4415-b12f-113b83e8ff7b",
   "metadata": {},
   "outputs": [],
   "source": [
    "# Training begins\n",
    "model.fit(\n",
    "    x=train_batches,\n",
    "    validation_data=valid_batches,\n",
    "    epochs=10,\n",
    "    verbose=2\n",
    ")\n"
   ]
  },
  {
   "cell_type": "code",
   "execution_count": null,
   "id": "4efc0b2b-1ba1-4775-be0f-8206a3d29763",
   "metadata": {},
   "outputs": [],
   "source": [
    "# Testing\n",
    "predictions=model.predict(x=test_batches, verbose=0)\n",
    "predictions\n"
   ]
  },
  {
   "cell_type": "code",
   "execution_count": null,
   "id": "4ab4484e-dd3d-4ac9-a2dd-c65b9a89dab5",
   "metadata": {},
   "outputs": [],
   "source": [
    "\n",
    "# Round of predictions\n",
    "np.round(predictions)"
   ]
  },
  {
   "cell_type": "code",
   "execution_count": null,
   "id": "5be8f095-fa47-4263-984c-f8b2f8fcd631",
   "metadata": {},
   "outputs": [],
   "source": [
    " cm=confusion_matrix(y_true=test_batches.classes, y_pred=np.argmax(predictions, axis=-1))"
   ]
  },
  {
   "cell_type": "code",
   "execution_count": null,
   "id": "937f9431-e1f1-4002-b74d-3938abece1fc",
   "metadata": {},
   "outputs": [],
   "source": [
    " test_batches.class_indices"
   ]
  },
  {
   "cell_type": "code",
   "execution_count": null,
   "id": "8249a7cc-ae8d-47f4-b152-fa404a4b5e48",
   "metadata": {},
   "outputs": [],
   "source": [
    " cm_plot_labels=['Healthy', 'Schizophrenic']\n",
    "    plot_confusion_matrix(cm=cm, classes=cm_plot_labels, title='Confusion Matrix')\n"
   ]
  },
  {
   "cell_type": "code",
   "execution_count": null,
   "id": "d47412f2-67f3-4531-81bf-a5919b108d65",
   "metadata": {},
   "outputs": [],
   "source": [
    "   \n",
    "    # Calculate the accuracy\n",
    "    acc=np.sum(np.diag(cm))/np.sum(cm)\n",
    "    print('Accuracy: ', acc)"
   ]
  },
  {
   "cell_type": "code",
   "execution_count": null,
   "id": "734d25fe-b1be-458d-b98d-37e4a2305eb2",
   "metadata": {},
   "outputs": [],
   "source": [
    "if __name__=='__main__':\n",
    "    print('Classifying')"
   ]
  },
  {
   "cell_type": "code",
   "execution_count": 1,
   "id": "cfd298cd-55c7-45ed-8ea0-e7b0fdc3a11e",
   "metadata": {},
   "outputs": [
    {
     "ename": "ModuleNotFoundError",
     "evalue": "No module named 'tensorflow'",
     "output_type": "error",
     "traceback": [
      "\u001b[1;31m---------------------------------------------------------------------------\u001b[0m",
      "\u001b[1;31mModuleNotFoundError\u001b[0m                       Traceback (most recent call last)",
      "Cell \u001b[1;32mIn [1], line 3\u001b[0m\n\u001b[0;32m      1\u001b[0m \u001b[38;5;28;01mimport\u001b[39;00m \u001b[38;5;21;01mnumpy\u001b[39;00m \u001b[38;5;28;01mas\u001b[39;00m \u001b[38;5;21;01mnp\u001b[39;00m\n\u001b[0;32m      2\u001b[0m \u001b[38;5;28;01mimport\u001b[39;00m \u001b[38;5;21;01mmatplotlib\u001b[39;00m\u001b[38;5;21;01m.\u001b[39;00m\u001b[38;5;21;01mpyplot\u001b[39;00m \u001b[38;5;28;01mas\u001b[39;00m \u001b[38;5;21;01mplt\u001b[39;00m\n\u001b[1;32m----> 3\u001b[0m \u001b[38;5;28;01mimport\u001b[39;00m \u001b[38;5;21;01mtensorflow\u001b[39;00m \u001b[38;5;28;01mas\u001b[39;00m \u001b[38;5;21;01mtf\u001b[39;00m\n\u001b[0;32m      4\u001b[0m \u001b[38;5;28;01mfrom\u001b[39;00m \u001b[38;5;21;01mtensorflow\u001b[39;00m \u001b[38;5;28;01mimport\u001b[39;00m keras\n\u001b[0;32m      5\u001b[0m \u001b[38;5;28;01mfrom\u001b[39;00m \u001b[38;5;21;01mtensorflow\u001b[39;00m\u001b[38;5;21;01m.\u001b[39;00m\u001b[38;5;21;01mkeras\u001b[39;00m\u001b[38;5;21;01m.\u001b[39;00m\u001b[38;5;21;01mmodels\u001b[39;00m \u001b[38;5;28;01mimport\u001b[39;00m Sequential\n",
      "\u001b[1;31mModuleNotFoundError\u001b[0m: No module named 'tensorflow'"
     ]
    }
   ],
   "source": []
  },
  {
   "cell_type": "code",
   "execution_count": null,
   "id": "119c27e2-d84d-49b3-bc5d-0db012b4ebd3",
   "metadata": {},
   "outputs": [],
   "source": []
  }
 ],
 "metadata": {
  "kernelspec": {
   "display_name": "Python 3 (ipykernel)",
   "language": "python",
   "name": "python3"
  },
  "language_info": {
   "codemirror_mode": {
    "name": "ipython",
    "version": 3
   },
   "file_extension": ".py",
   "mimetype": "text/x-python",
   "name": "python",
   "nbconvert_exporter": "python",
   "pygments_lexer": "ipython3",
   "version": "3.10.7"
  }
 },
 "nbformat": 4,
 "nbformat_minor": 5
}
